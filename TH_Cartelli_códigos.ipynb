{
 "cells": [
  {
   "cell_type": "code",
   "execution_count": 1,
   "metadata": {},
   "outputs": [],
   "source": [
    "import matplotlib.pyplot as plt\n",
    "import numpy as np\n",
    "import scipy.stats as stats\n",
    "from nltk import word_tokenize, sent_tokenize\n",
    "import nltk\n",
    "import random\n",
    "from IPython.display import display, Markdown, Latex"
   ]
  },
  {
   "cell_type": "code",
   "execution_count": 2,
   "metadata": {},
   "outputs": [],
   "source": [
    "'''\n",
    "\n",
    "Definimos la función que agarra palabras al azar de un texto que le pongamos, y cuenta la cantidad de letras de esas \n",
    "palabras. La función toma como input la dirección en la que el texto se encuentra guardado, por ejemplo './text_es.txt',\n",
    "n la cantidad de palabras que agarra, de las cuales elige la que posea el mayor número de letras y la almacena descartando\n",
    "las otras n-1 palabras, y K el número de veces que queremos que se repita este proceso. \n",
    "\n",
    "'''\n",
    "def Palabras(Text,n,K):\n",
    "    \n",
    "    # la variable Text se escribe de la forma './Nombre_del_archivo.txt'\n",
    "    fic = open(str(Text), \"r\") #abre el archivo\n",
    "\n",
    "    lines = []\n",
    "    for line in fic:\n",
    "        lines.append(line)\n",
    "    fic.close()\n",
    "\n",
    "    N=len(lines)\n",
    "    \n",
    "    #cuenta cuantas letras hay en cada palabra del texto y lo almacena en un array\n",
    "    longitudes = []\n",
    "    for j in range(N):\n",
    "        longitud = [len(w)for w in word_tokenize(lines[j]) if w.isalpha()]\n",
    "        for i in longitud:\n",
    "            longitudes.append(i)\n",
    "    \n",
    "    #Cuenta la cantidad de letras que hay por palabra en el conjunto de n palabras, toma el máximo de estas y lo almacena en un array\n",
    "    maximos=[]\n",
    "    for i in range(K):\n",
    "        temp=[]\n",
    "        for j in range(n):\n",
    "            temp.append(random.choice(longitudes))\n",
    "        maximos.append(max(temp))\n",
    "        \n",
    "    #Plotea un histograma con la probabilidad con la que aparecen palabras con cierto número de letras en todo el texto\n",
    "    \n",
    "    #Plotea un histograma con la probabildiad con la que aparecen palabras con cierto numero de letras en el array armado con K máximos elegidos anteriormente\n",
    "    #distribución del estadístico número de letras\n",
    "\n",
    "    bins1 = np.arange(0,21,1)\n",
    "    h1,b1 = np.histogram(maximos,bins1,density=True)\n",
    "    error2 = np.sqrt(h1/len(maximos))\n",
    "    plt.bar(b1[:-1],height=h1,width =1,color='pink',edgecolor='purple',yerr=error2,capsize=4)\n",
    "    plt.title('Distribución del estadístico $t_{'+str(n)+'}$')\n",
    "    plt.xlabel('Cantidad de letras')\n",
    "    plt.ylabel('Probabilidad')\n",
    "    plt.xticks(bins1)\n",
    "    plt.savefig(str(Text)+'_'+str(n)+'.png',dpi=300)\n",
    "    plt.show()\n",
    "    \n",
    "    \n",
    "    #me devuelve el array con los K máximos y las probabilidades de su histograma (alturas).\n",
    "    return [maximos,h1]"
   ]
  },
  {
   "cell_type": "markdown",
   "metadata": {},
   "source": [
    "Primero grafico el histograma para la cantidad de letras por palabra en todo el texto, tanto en español, como en alemán. El texto elegido fue La divina comedia. Primero lo hago para el español"
   ]
  },
  {
   "cell_type": "code",
   "execution_count": 3,
   "metadata": {},
   "outputs": [
    {
     "data": {
      "image/png": "[encoded data removed]",
      "text/plain": [
       "<Figure size 432x288 with 1 Axes>"
      ]
     },
     "metadata": {
      "needs_background": "light"
     },
     "output_type": "display_data"
    }
   ],
   "source": [
    "fic = open('./La_Divina_Comedia_es.txt', \"r\") #abre el archivo\n",
    "\n",
    "lines = []\n",
    "for line in fic:\n",
    "    lines.append(line)\n",
    "fic.close()\n",
    "\n",
    "N=len(lines)\n",
    "    \n",
    "#cuenta cuantas letras hay en cada palabra del texto y lo almacena en un array\n",
    "longitudes = []\n",
    "for j in range(N):\n",
    "    longitud= [len(w)for w in word_tokenize(lines[j]) if w.isalpha()]\n",
    "    for i in longitud:\n",
    "        longitudes.append(i)\n",
    "        \n",
    "#Plotea un histograma con la probabilidad con la que aparecen palabras con cierto número de letras en todo el texto\n",
    "bins = np.arange(0,21,1)\n",
    "h,b = np.histogram(longitudes,bins,density=True)\n",
    "error = np.sqrt(h/len(longitudes))\n",
    "plt.bar(b[:-1],height=h,width =1,color='pink',edgecolor='purple',yerr=error,capsize=4)\n",
    "plt.title('Histograma de ocurrencias [u.a.] (español)')\n",
    "plt.xlabel('Cantidad de letras')\n",
    "plt.ylabel('Probabilidad')\n",
    "plt.xticks(bins)\n",
    "plt.savefig('Histograma de ocurrencias [u.a.] (español).png',dpi=300)\n",
    "plt.show()\n"
   ]
  },
  {
   "cell_type": "code",
   "execution_count": 4,
   "metadata": {},
   "outputs": [
    {
     "data": {
      "image/png": "[encoded data removed]",
      "text/plain": [
       "<Figure size 432x288 with 1 Axes>"
      ]
     },
     "metadata": {
      "needs_background": "light"
     },
     "output_type": "display_data"
    }
   ],
   "source": [
    "#Hago lo mismo para el alemán\n",
    "\n",
    "fic = open('./La_Divina_Comedia_al.txt', \"r\") #abre el archivo\n",
    "\n",
    "lines = []\n",
    "for line in fic:\n",
    "    lines.append(line)\n",
    "fic.close()\n",
    "\n",
    "N=len(lines)\n",
    "    \n",
    "#cuenta cuantas letras hay en cada palabra del texto y lo almacena en un array\n",
    "longitudes = []\n",
    "for j in range(N):\n",
    "    longitud= [len(w)for w in word_tokenize(lines[j]) if w.isalpha()]\n",
    "    for i in longitud:\n",
    "        longitudes.append(i)\n",
    "        \n",
    "#Plotea un histograma con la probabilidad con la que aparecen palabras con cierto número de letras en todo el texto\n",
    "bins = np.arange(0,21,1)\n",
    "h,b = np.histogram(longitudes,bins,density=True)\n",
    "error = np.sqrt(h/len(longitudes))\n",
    "plt.bar(b[:-1],height=h,width =1,color='pink',edgecolor='purple',yerr=error,capsize=4)\n",
    "plt.title('Histograma de ocurrencias [u.a.] (alemán)')\n",
    "plt.xlabel('Cantidad de letras')\n",
    "plt.ylabel('Probabilidad')\n",
    "plt.xticks(bins)\n",
    "plt.savefig('Histograma de ocurrencias [u.a.] (alemán).png',dpi=300)\n",
    "plt.show()"
   ]
  },
  {
   "cell_type": "markdown",
   "metadata": {},
   "source": [
    "<b>(1)</b> "
   ]
  },
  {
   "cell_type": "markdown",
   "metadata": {},
   "source": [
    "Cálculamos la distribución para el estadístico $t_1$ para el texto en español llamando a la función anteriormente definida que nos da la distribución. Este estadístico da cuenta del número de letras que tiene una palabra máximo en un conjunto de 1 palabra (en este caso es absurdo verlo así pero más adelante tendrá sentido). Esta función toma como input el texto en cuestión, la cantidad de palabras que queremos que compare la cantidad de letras que tiene cada una, en este caso será de 1; y por último la cantidad de veces que queremos que repita este proceso, en este caso elegimos 1000 ya que es un número razonable para armar el estadístico."
   ]
  },
  {
   "cell_type": "code",
   "execution_count": 5,
   "metadata": {},
   "outputs": [
    {
     "data": {
      "image/png": "[encoded data removed]",
      "text/plain": [
       "<Figure size 432x288 with 1 Axes>"
      ]
     },
     "metadata": {
      "needs_background": "light"
     },
     "output_type": "display_data"
    }
   ],
   "source": [
    "t1_es= Palabras('./La_Divina_Comedia_es.txt',1,1000)#llamamos a la función que nos da el estadítico"
   ]
  },
  {
   "cell_type": "markdown",
   "metadata": {},
   "source": [
    "Calculamos la moda, media y mediana; facilmente utilizando funciones de numpy."
   ]
  },
  {
   "cell_type": "code",
   "execution_count": 6,
   "metadata": {
    "scrolled": true
   },
   "outputs": [
    {
     "data": {
      "text/markdown": [
       "Español (t1): <br> $Media=$ 4.313<br> $Moda = $ 2<br> $Mediana =$ 4.0"
      ],
      "text/plain": [
       "<IPython.core.display.Markdown object>"
      ]
     },
     "metadata": {},
     "output_type": "display_data"
    }
   ],
   "source": [
    "Moda_t1_es= np.argmax(t1_es[1]) #toma como input las alturas del histograma\n",
    "\n",
    "Media_t1_es = np.mean(t1_es[0]) #toma como input el array de K palabras con máximo de letras entre un conjunto de n.\n",
    "\n",
    "Mediana_t1_es = np.median(t1_es[0]) #toma como input el array de K palabras con máximo de letras entre un conjunto de n.\n",
    "\n",
    "display(Markdown(\"Español (t1): <br> $Media=$ \"+str(Media_t1_es)+\"<br> $Moda = $ \"+str(Moda_t1_es)+\"<br> $Mediana =$ \" +str(Mediana_t1_es)))"
   ]
  },
  {
   "cell_type": "markdown",
   "metadata": {},
   "source": [
    "Ahora repetimos el proceso pero para el texto en alemán."
   ]
  },
  {
   "cell_type": "code",
   "execution_count": 7,
   "metadata": {},
   "outputs": [
    {
     "data": {
      "image/png": "[encoded data removed]",
      "text/plain": [
       "<Figure size 432x288 with 1 Axes>"
      ]
     },
     "metadata": {
      "needs_background": "light"
     },
     "output_type": "display_data"
    }
   ],
   "source": [
    "t1_al= Palabras('./La_Divina_Comedia_al.txt',1,1000) #llamamos a la función para el texto en alemán."
   ]
  },
  {
   "cell_type": "markdown",
   "metadata": {},
   "source": [
    "Calculamos su media, moda y mediana."
   ]
  },
  {
   "cell_type": "code",
   "execution_count": 8,
   "metadata": {},
   "outputs": [
    {
     "data": {
      "text/markdown": [
       "Español (t1): <br> $Media=$ 4.568<br> $Moda = $ 3<br> $Mediana =$ 4.0"
      ],
      "text/plain": [
       "<IPython.core.display.Markdown object>"
      ]
     },
     "metadata": {},
     "output_type": "display_data"
    }
   ],
   "source": [
    "Moda_t1_al= np.argmax(t1_al[1])\n",
    "\n",
    "Media_t1_al = np.mean(t1_al[0])\n",
    "\n",
    "Mediana_t1_al = np.median(t1_al[0])\n",
    "\n",
    "display(Markdown(\"Español (t1): <br> $Media=$ \"+str(Media_t1_al)+\"<br> $Moda = $ \"+str(Moda_t1_al)+\"<br> $Mediana =$ \" +str(Mediana_t1_al)))"
   ]
  },
  {
   "cell_type": "markdown",
   "metadata": {},
   "source": [
    "<b> (2)</b>"
   ]
  },
  {
   "cell_type": "markdown",
   "metadata": {},
   "source": [
    "Ahora hacemos la distribución del estadístico $t_{20}$ para ambos idiomas. Este estadístico es parecido al anterior, solo que ahora da cuenta de la cantidad de letras máxima que tiene una palabra en un conjunto de 20 palabras. Nuevamente realizamos 1000 repeticiones para armar el estadístico."
   ]
  },
  {
   "cell_type": "code",
   "execution_count": 9,
   "metadata": {},
   "outputs": [
    {
     "data": {
      "image/png": "[encoded data removed]",
      "text/plain": [
       "<Figure size 432x288 with 1 Axes>"
      ]
     },
     "metadata": {
      "needs_background": "light"
     },
     "output_type": "display_data"
    }
   ],
   "source": [
    "t20_es=Palabras('./La_Divina_Comedia_es.txt',20,1000)"
   ]
  },
  {
   "cell_type": "markdown",
   "metadata": {},
   "source": [
    "Calculamos la media, moda y mediana."
   ]
  },
  {
   "cell_type": "code",
   "execution_count": 10,
   "metadata": {},
   "outputs": [
    {
     "data": {
      "text/markdown": [
       "Español (t20): <br> $Media=$ 9.952<br> $Moda = $ 10<br> $Mediana =$ 10.0"
      ],
      "text/plain": [
       "<IPython.core.display.Markdown object>"
      ]
     },
     "metadata": {},
     "output_type": "display_data"
    }
   ],
   "source": [
    "Moda_t20_es= np.argmax(t20_es[1])\n",
    "\n",
    "Media_t20_es = np.mean(t20_es[0])\n",
    "\n",
    "Mediana_t20_es = np.median(t20_es[0])\n",
    "\n",
    "display(Markdown(\"Español (t20): <br> $Media=$ \"+str(Media_t20_es)+\"<br> $Moda = $ \"+str(Moda_t20_es)+\"<br> $Mediana =$ \" +str(Mediana_t20_es)))"
   ]
  },
  {
   "cell_type": "markdown",
   "metadata": {},
   "source": [
    "Realizamos todo análogamente para el texto en alemán."
   ]
  },
  {
   "cell_type": "code",
   "execution_count": 11,
   "metadata": {},
   "outputs": [
    {
     "data": {
      "image/png": "[encoded data removed]",
      "text/plain": [
       "<Figure size 432x288 with 1 Axes>"
      ]
     },
     "metadata": {
      "needs_background": "light"
     },
     "output_type": "display_data"
    }
   ],
   "source": [
    "t20_al=Palabras('./La_Divina_Comedia_al.txt',20,1000)"
   ]
  },
  {
   "cell_type": "code",
   "execution_count": 12,
   "metadata": {},
   "outputs": [
    {
     "data": {
      "text/markdown": [
       "Aleman (t20): <br> $Media=$ 10.026<br> $Moda = $ 9<br> $Mediana =$ 10.0"
      ],
      "text/plain": [
       "<IPython.core.display.Markdown object>"
      ]
     },
     "metadata": {},
     "output_type": "display_data"
    }
   ],
   "source": [
    "Moda_t20_al= np.argmax(t20_al[1])\n",
    "\n",
    "Media_t20_al = np.mean(t20_al[0])\n",
    "\n",
    "Mediana_t20_al = np.median(t20_al[0])\n",
    "\n",
    "display(Markdown(\"Aleman (t20): <br> $Media=$ \"+str(Media_t20_al)+\"<br> $Moda = $ \"+str(Moda_t20_al)+\"<br> $Mediana =$ \" +str(Mediana_t20_al)))"
   ]
  },
  {
   "cell_type": "markdown",
   "metadata": {},
   "source": [
    "<b> (3) </b>"
   ]
  },
  {
   "cell_type": "markdown",
   "metadata": {},
   "source": [
    "Calculamos el valor crítico de letras para el cual $\\alpha \\leq 0.05$. Queremos saber el valor del estadístico $t$ para el cuál la integral de la distribución desde ese valor en adelante de menor a $\\alpha$. Debido a que nuestra distribución en este caso es discreta, esto no será más que sumar las alturas de los bins desde el valor crítico en adelante. \n",
    "\n",
    "Entonces para ello recorremos el array de las alturas del histograma en cuestión (que es uno de los elementos que nos devuelve la función Palabras anteriormente definida) y buscamos el número de elemento para el cual la suma alturas desde allí en adelante cumpla la condición pedida."
   ]
  },
  {
   "cell_type": "code",
   "execution_count": 13,
   "metadata": {},
   "outputs": [
    {
     "data": {
      "text/markdown": [
       "Tenemos entonces que el valor de $t_{20}$ crítico <br> $t_c=$ 14<br> Y el valor para $\\alpha$ <br> $\\alpha=$ 0.037"
      ],
      "text/plain": [
       "<IPython.core.display.Markdown object>"
      ]
     },
     "metadata": {},
     "output_type": "display_data"
    }
   ],
   "source": [
    "for i in range(len(t20_es[1])): #recorremos el array de alturas de la distribución\n",
    "    alpha=np.sum(t20_es[1][i:]) #Sumamos desde el elemento i-esimo en adelante.\n",
    "    if alpha<=0.05: #imponemos la condición de forma tal que cuando se cumpla, nos devuelva el primer número de elemento que la cumple\n",
    "        Tc=i\n",
    "        break\n",
    "display(Markdown(\"Tenemos entonces que el valor de $t_{20}$ crítico <br> $t_c=$ \"+str(Tc)+\"<br> Y el valor para $\\\\alpha$ <br> $\\\\alpha=$ \"+str(round(alpha,3))))"
   ]
  },
  {
   "cell_type": "markdown",
   "metadata": {},
   "source": [
    "<b> (4) </b>"
   ]
  },
  {
   "cell_type": "markdown",
   "metadata": {},
   "source": [
    "Calculamos la potencia para $t_{20}$. Para ello integramos (o sumamos en este caso) desde el valor de $t_{crítico}$ hallado anteriormente pero esta vez lo realizamos en la distribución para la hipotesis alternativa, es decir, utilizamos la distribución del estadístico para el libro en alemán."
   ]
  },
  {
   "cell_type": "code",
   "execution_count": 14,
   "metadata": {},
   "outputs": [
    {
     "data": {
      "text/markdown": [
       "Tenemos la potencia medida desde $t_c =$ 14 para el estadistico $t_{20}$<br> $P_{t_{20}}=$ 0.075"
      ],
      "text/plain": [
       "<IPython.core.display.Markdown object>"
      ]
     },
     "metadata": {},
     "output_type": "display_data"
    }
   ],
   "source": [
    "#Calculamos la potencia sumando los terminos desde el tc calculado anteriormente para la distribucion de t1 en alemán\n",
    "Potencia_t20=np.sum(t20_al[1][Tc:])\n",
    "display(Markdown(\"Tenemos la potencia medida desde $t_c =$ \"+str(Tc)+\" para el estadistico $t_{20}$<br> $P_{t_{20}}=$ \"+str(round(Potencia_t20,3))))"
   ]
  },
  {
   "cell_type": "markdown",
   "metadata": {},
   "source": [
    "Ahora si tomamos a $t_1$ como estadístico, calculamos el valor crítico."
   ]
  },
  {
   "cell_type": "code",
   "execution_count": 15,
   "metadata": {},
   "outputs": [
    {
     "data": {
      "text/markdown": [
       "Tenemos entonces que el valor de $t_{1}$ crítico <br> $t_c=$ 10<br> Y el valor para $\\alpha$ <br> $\\alpha=$ 0.047"
      ],
      "text/plain": [
       "<IPython.core.display.Markdown object>"
      ]
     },
     "metadata": {},
     "output_type": "display_data"
    }
   ],
   "source": [
    "for i in range(len(t1_es[1])): #recorremos el array de alturas de la distribución\n",
    "    alpha_1=np.sum(t1_es[1][i:]) #Sumamos desde el elemento i-esimo en adelante.\n",
    "    if alpha_1<=0.05: #imponemos la condición de forma tal que cuando se cumpla, nos devuelva el primer número de elemento que la cumple\n",
    "        Tc_1=i\n",
    "        break\n",
    "display(Markdown(\"Tenemos entonces que el valor de $t_{1}$ crítico <br> $t_c=$ \"+str(Tc_1)+\"<br> Y el valor para $\\\\alpha$ <br> $\\\\alpha=$ \"+str(round(alpha_1,3))))"
   ]
  },
  {
   "cell_type": "code",
   "execution_count": 16,
   "metadata": {},
   "outputs": [
    {
     "data": {
      "text/markdown": [
       "Tenemos la potencia medida desde $t_c =$ 10 para el estadistico $t_1$<br> $P_{t_1}=$ 0.038"
      ],
      "text/plain": [
       "<IPython.core.display.Markdown object>"
      ]
     },
     "metadata": {},
     "output_type": "display_data"
    }
   ],
   "source": [
    "Potencia_t1=np.sum(t1_al[1][Tc_1:])\n",
    "display(Markdown(\"Tenemos la potencia medida desde $t_c =$ \"+str(Tc_1)+\" para el estadistico $t_1$<br> $P_{t_1}=$ \"+str(round(Potencia_t1,3))))"
   ]
  },
  {
   "cell_type": "markdown",
   "metadata": {},
   "source": [
    "Nos piden también calcular la potencia para el estadístico $t_{100}$, entonces calculamos las distribuciones de $t_{100}$ para cada idioma."
   ]
  },
  {
   "cell_type": "markdown",
   "metadata": {},
   "source": [
    "Para el alemán"
   ]
  },
  {
   "cell_type": "code",
   "execution_count": 17,
   "metadata": {},
   "outputs": [
    {
     "data": {
      "image/png": "[encoded data removed]",
      "text/plain": [
       "<Figure size 432x288 with 1 Axes>"
      ]
     },
     "metadata": {
      "needs_background": "light"
     },
     "output_type": "display_data"
    }
   ],
   "source": [
    "t100_al=Palabras('./La_Divina_Comedia_al.txt',100,1000)"
   ]
  },
  {
   "cell_type": "markdown",
   "metadata": {},
   "source": [
    "Y para el español la distribución $t_{100}$ sería"
   ]
  },
  {
   "cell_type": "code",
   "execution_count": 18,
   "metadata": {},
   "outputs": [
    {
     "data": {
      "image/png": "[encoded data removed]",
      "text/plain": [
       "<Figure size 432x288 with 1 Axes>"
      ]
     },
     "metadata": {
      "needs_background": "light"
     },
     "output_type": "display_data"
    }
   ],
   "source": [
    "t100_es=Palabras('./La_Divina_Comedia_es.txt',100,1000)"
   ]
  },
  {
   "cell_type": "markdown",
   "metadata": {},
   "source": [
    "Calculamos el $t_c$"
   ]
  },
  {
   "cell_type": "code",
   "execution_count": 19,
   "metadata": {},
   "outputs": [
    {
     "data": {
      "text/markdown": [
       "Tenemos entonces que el valor de $t_{1}$ crítico <br> $t_c=$ 16<br> Y el valor para $\\alpha$ <br> $\\alpha=$ 0.023"
      ],
      "text/plain": [
       "<IPython.core.display.Markdown object>"
      ]
     },
     "metadata": {},
     "output_type": "display_data"
    }
   ],
   "source": [
    "for i in range(len(t100_es[1])): #recorremos el array de alturas de la distribución\n",
    "    alpha_100=np.sum(t100_es[1][i:]) #Sumamos desde el elemento i-esimo en adelante.\n",
    "    if alpha_100<=0.05: #imponemos la condición de forma tal que cuando se cumpla, nos devuelva el primer número de elemento que la cumple\n",
    "        Tc_100=i\n",
    "        break\n",
    "display(Markdown(\"Tenemos entonces que el valor de $t_{1}$ crítico <br> $t_c=$ \"+str(Tc_100)+\"<br> Y el valor para $\\\\alpha$ <br> $\\\\alpha=$ \"+str(round(alpha_100,3))))"
   ]
  },
  {
   "cell_type": "markdown",
   "metadata": {},
   "source": [
    "Y con esto la potencia sería"
   ]
  },
  {
   "cell_type": "code",
   "execution_count": 20,
   "metadata": {},
   "outputs": [
    {
     "data": {
      "text/markdown": [
       "Y por último la potencia medida desde $t_c =$ 16 para el estadistico $t_{100}$<br> $P_{t_{100}}=$ 0.102"
      ],
      "text/plain": [
       "<IPython.core.display.Markdown object>"
      ]
     },
     "metadata": {},
     "output_type": "display_data"
    }
   ],
   "source": [
    "Potencia_t100=np.sum(t100_al[1][Tc_100:])\n",
    "display(Markdown(\"Y por último la potencia medida desde $t_c =$ \"+str(Tc_100)+\" para el estadistico $t_{100}$<br> $P_{t_{100}}=$ \"+str(round(Potencia_t100,3))))"
   ]
  },
  {
   "cell_type": "markdown",
   "metadata": {},
   "source": [
    "<b> (5) </b>\n",
    "\n",
    "Realizamos un nuevo test para calcular el estadístico de rachas."
   ]
  },
  {
   "cell_type": "code",
   "execution_count": 21,
   "metadata": {},
   "outputs": [],
   "source": [
    "'''\n",
    "\n",
    "Defino una función para el test de runs. Esta toma como imputs el texto en cuestión, n la cantidad de palabras que agarra, \n",
    "de las cuales elige la que posea el mayor número de letras y la almacena descartandolas otras n-1 palabras, K ahora no \n",
    "es el número de repeticiones de el proceso de descarte de palabras, si no que será el número de repeticiones para realizar \n",
    "el test de runs (ver si el valor de letras elegido entre los n valores cae de un lado u otro de la mediana de la \n",
    "distribución que queramos tratar), y además toma como imput a la mediana de la distribución en base a la cual queremos hacer\n",
    "el test de runs. Es decir, esta función calcula el estadístico t_n y realiza el test propuesto en el ejercicio 5.\n",
    "\n",
    "'''\n",
    "def Runs(Text,n,K,Mediana):\n",
    "    # fic = open('./text_es.txt', \"r\")\n",
    "    fic = open(str(Text), \"r\")\n",
    "    lines = []\n",
    "    for line in fic:\n",
    "        lines.append(line)\n",
    "    fic.close()\n",
    "\n",
    "    N=len(lines)\n",
    "\n",
    "    longitudes = []\n",
    "    for j in range(N):\n",
    "        longitud = [len(w)for w in word_tokenize(lines[j]) if w.isalpha()]\n",
    "        for i in longitud:\n",
    "            longitudes.append(i)\n",
    "    Rachas=[]\n",
    "    # hasta acá hice lo mismo que para la función Palabras anteriormente definida\n",
    "    \n",
    "#############################################################################################################################    \n",
    "    for j in range(K):  #ahora este for repite K veces la busqueda de la nueva variable aleatoria Rachas      \n",
    "        maximos=[]\n",
    "        for i in range(30):#fijo el número de palabras que agarramos por muestra en 30 \n",
    "            temp=[]\n",
    "            for o in range(n): #acá tomo n palabras y me fijo cual es el máximo de ellas, y lo guardo en el array maximos\n",
    "                temp.append(random.choice(longitudes))\n",
    "            maximos.append(max(temp))\n",
    "        #Mediana = np.median(maximos)\n",
    "#############################################################################################################################\n",
    "\n",
    "        #ahora armo el criterio para obtener los valores para la variable rachas\n",
    "        \n",
    "        R=[]#me creo un array que guarda \"los numeros de letras\" que estén por encima o por debajo de la muestra\n",
    "        #esto entonces agarra cada valor para la muestra de 30 palabras y si está por encima o por debajo de la mediana\n",
    "        # si está por debajo agrega un 1 al array R, y por el contrario si está por debajo, agrega un 0.\n",
    "        for p in range(len(maximos)): \n",
    "            if maximos[p]<Mediana:\n",
    "                R.append(1)\n",
    "            elif maximos[p]>Mediana:\n",
    "                R.append(0)\n",
    "        \n",
    "        #ahora quiero contar las veces en las cuales los valores en la muestra saltan de un lado a otro de la mediana\n",
    "        #para ello me creo un for que recorre el array R con los valores que están por debajo o por encima de la mediana\n",
    "        # y se fija si el elemento es distinto al que le sigue. Si ese es el caso suma 1 a la variable g que será el número de rachas\n",
    "        g=1\n",
    "        for k in range(len(R)-1):\n",
    "            if R[k] != R[k+1]:\n",
    "                g=g+1\n",
    "                \n",
    "        #esto agrega el valor de rachas para la muestra en el array Rachas, con el fin de obtener K valores de Rachas.        \n",
    "        Rachas.append(g)\n",
    "    \n",
    "    #Ploteo del histograma con las rachas\n",
    "    Median=np.median(Rachas)    \n",
    "    bins = np.arange(0,25,1)\n",
    "    h,b = np.histogram(Rachas,bins,density=True)\n",
    "    error = np.sqrt(h/len(Rachas))\n",
    "    plt.bar(b[:-1],height=h,width =1,color='pink',edgecolor='purple',yerr=error,capsize=4)\n",
    "    plt.title('Distribución del rachas')\n",
    "    plt.xlabel('Rachas')\n",
    "    plt.ylabel('Probabilidad')\n",
    "    plt.xticks(bins)\n",
    "    plt.savefig(str(Text)+'_Rachas_'+str(n)+'.png',dpi=300)\n",
    "    plt.show()\n",
    "    return h #me devuelve las alturas de los bins."
   ]
  },
  {
   "cell_type": "markdown",
   "metadata": {},
   "source": [
    "Distribución de rachas para el texto en alemán."
   ]
  },
  {
   "cell_type": "code",
   "execution_count": 22,
   "metadata": {
    "scrolled": true
   },
   "outputs": [
    {
     "data": {
      "image/png": "[encoded data removed]",
      "text/plain": [
       "<Figure size 432x288 with 1 Axes>"
      ]
     },
     "metadata": {
      "needs_background": "light"
     },
     "output_type": "display_data"
    }
   ],
   "source": [
    "h_al=Runs('./La_Divina_Comedia_al.txt',1,1000,Mediana_t1_al)"
   ]
  },
  {
   "cell_type": "markdown",
   "metadata": {},
   "source": [
    "Distribucion de rachas para el texto en español."
   ]
  },
  {
   "cell_type": "code",
   "execution_count": 23,
   "metadata": {},
   "outputs": [
    {
     "data": {
      "image/png": "[encoded data removed]",
      "text/plain": [
       "<Figure size 432x288 with 1 Axes>"
      ]
     },
     "metadata": {
      "needs_background": "light"
     },
     "output_type": "display_data"
    }
   ],
   "source": [
    "h_es=Runs('./La_Divina_Comedia_es.txt',1,1000,Mediana_t1_es)"
   ]
  },
  {
   "cell_type": "markdown",
   "metadata": {},
   "source": [
    "<b> (6) </b>"
   ]
  },
  {
   "cell_type": "markdown",
   "metadata": {},
   "source": [
    "Ahora tomo un libro de mi casa y agarro 30 palabras siguiendo el método propuesto en el parcial."
   ]
  },
  {
   "cell_type": "code",
   "execution_count": 24,
   "metadata": {},
   "outputs": [
    {
     "data": {
      "text/plain": [
       "3.0"
      ]
     },
     "execution_count": 24,
     "metadata": {},
     "output_type": "execute_result"
    }
   ],
   "source": [
    "Muestra=[4,6,3,6,6,2,4,2,2,3,3,2,3,11,1,6,2,3,2,9,8,3,10,3,15,2,2,4,2,5]\n",
    "np.median(Muestra)\n",
    "\n",
    "#len(Muestra)"
   ]
  },
  {
   "cell_type": "markdown",
   "metadata": {},
   "source": [
    "Realizamos el test para ver la cantidad de rachas que tiene la muestra"
   ]
  },
  {
   "cell_type": "code",
   "execution_count": 25,
   "metadata": {},
   "outputs": [
    {
     "data": {
      "text/markdown": [
       "Rachas para la muestra = 15"
      ],
      "text/plain": [
       "<IPython.core.display.Markdown object>"
      ]
     },
     "metadata": {},
     "output_type": "display_data"
    }
   ],
   "source": [
    "\n",
    "R=[]\n",
    "for i in range(len(Muestra)):\n",
    "    if Muestra[i]<Mediana_t1_al:\n",
    "        R.append(1)\n",
    "    elif Muestra[i]>Mediana_t1_al:\n",
    "        R.append(0)\n",
    "    g=1\n",
    "    for k in range(len(R)-1):\n",
    "        if R[k] != R[k+1]:\n",
    "            g=g+1\n",
    "display(Markdown(\"Rachas para la muestra = \"+str(g)))"
   ]
  },
  {
   "cell_type": "markdown",
   "metadata": {},
   "source": [
    "Calculamos su P-valor integrando desde el valor medido en adelante para la distribución de rachas en alemán. Calculamos el nivel de confianza tomando como $\\alpha = \\text{p-valor}$"
   ]
  },
  {
   "cell_type": "code",
   "execution_count": 26,
   "metadata": {},
   "outputs": [
    {
     "data": {
      "text/markdown": [
       "Tenemos que el p-valor es de <br> $P_{valor}=$ 0.254<br> y con esto aseguramos un nivel de confianza de que la hipotesis nula esté mal <br> $CL=$ 74.6%"
      ],
      "text/plain": [
       "<IPython.core.display.Markdown object>"
      ]
     },
     "metadata": {},
     "output_type": "display_data"
    }
   ],
   "source": [
    "P_value=np.sum(h_al[g:])\n",
    "\n",
    "CL = 1-P_value\n",
    "display(Markdown(\"Tenemos que el p-valor es de <br> $P_{valor}=$ \"+str(round(P_value,3))+\"<br> y con esto aseguramos un nivel de confianza de que la hipotesis nula esté mal <br> $CL=$ \"+str(round(CL*100,3))+\"%\"))"
   ]
  },
  {
   "cell_type": "code",
   "execution_count": null,
   "metadata": {},
   "outputs": [],
   "source": []
  }
 ],
 "metadata": {
  "kernelspec": {
   "display_name": "Python 3",
   "language": "python",
   "name": "python3"
  },
  "language_info": {
   "codemirror_mode": {
    "name": "ipython",
    "version": 3
   },
   "file_extension": ".py",
   "mimetype": "text/x-python",
   "name": "python",
   "nbconvert_exporter": "python",
   "pygments_lexer": "ipython3",
   "version": "3.8.3"
  }
 },
 "nbformat": 4,
 "nbformat_minor": 4
}
